{
  "nbformat": 4,
  "nbformat_minor": 0,
  "metadata": {
    "colab": {
      "provenance": [],
      "authorship_tag": "ABX9TyMAy+BXq9ctXvfC9n+KUAHx",
      "include_colab_link": true
    },
    "kernelspec": {
      "name": "python3",
      "display_name": "Python 3"
    },
    "language_info": {
      "name": "python"
    }
  },
  "cells": [
    {
      "cell_type": "markdown",
      "metadata": {
        "id": "view-in-github",
        "colab_type": "text"
      },
      "source": [
        "<a href=\"https://colab.research.google.com/github/Dhruvrajrana/batch-50_python/blob/main/control_statement.ipynb\" target=\"_parent\"><img src=\"https://colab.research.google.com/assets/colab-badge.svg\" alt=\"Open In Colab\"/></a>"
      ]
    },
    {
      "cell_type": "code",
      "execution_count": 2,
      "metadata": {
        "colab": {
          "base_uri": "https://localhost:8080/"
        },
        "id": "1ykDy6fSCVa8",
        "outputId": "39496a19-e7b9-4b50-ef95-93043b6f9081"
      },
      "outputs": [
        {
          "output_type": "stream",
          "name": "stdout",
          "text": [
            "hello\n",
            "done\n"
          ]
        }
      ],
      "source": [
        "x=10\n",
        "if x<=10:\n",
        "  print(\"hello\")\n",
        "  x=x+1\n",
        "  print(\"done\")"
      ]
    },
    {
      "cell_type": "code",
      "source": [
        "x=10\n",
        "if x>0:\n",
        "  print(\"hello\")\n",
        "  x=x+1\n",
        "  print(\"done\")"
      ],
      "metadata": {
        "colab": {
          "base_uri": "https://localhost:8080/"
        },
        "id": "fcX-YMTjC-48",
        "outputId": "82d4fa53-6d71-429e-dadf-b1a47903466c"
      },
      "execution_count": 3,
      "outputs": [
        {
          "output_type": "stream",
          "name": "stdout",
          "text": [
            "hello\n",
            "done\n"
          ]
        }
      ]
    },
    {
      "cell_type": "code",
      "source": [
        "temp=35\n",
        "if temp>30:\n",
        "  print(\"hot\")\n",
        "else:\n",
        "  print(\"cold\")"
      ],
      "metadata": {
        "colab": {
          "base_uri": "https://localhost:8080/"
        },
        "id": "OBanVGD3DRom",
        "outputId": "48663a16-8463-4c6c-bbd9-40d4196c55d3"
      },
      "execution_count": 4,
      "outputs": [
        {
          "output_type": "stream",
          "name": "stdout",
          "text": [
            "hot\n"
          ]
        }
      ]
    },
    {
      "cell_type": "code",
      "source": [
        "temp=35\n",
        "if temp>30:\n",
        "  print(\"hot\")\n",
        "  print(\"drink plenty of water\")\n",
        "elif temp>20 :\n",
        "  print(\"it is a good day\")\n",
        "elif temp>10 :\n",
        "  print(\"it is a bit cold day\")\n",
        "else :\n",
        "    print(\"enjoy\")\n",
        "print(\"done\")\n"
      ],
      "metadata": {
        "colab": {
          "base_uri": "https://localhost:8080/"
        },
        "id": "r8lKMo7CEE2E",
        "outputId": "1f74bc7a-c954-46a6-e5a8-c1786d7838db"
      },
      "execution_count": 7,
      "outputs": [
        {
          "output_type": "stream",
          "name": "stdout",
          "text": [
            "hot\n",
            "drink plenty of water\n",
            "done\n"
          ]
        }
      ]
    },
    {
      "cell_type": "markdown",
      "source": [
        "Write a python code for weight conversion"
      ],
      "metadata": {
        "id": "Ab10UzBsFyHo"
      }
    },
    {
      "cell_type": "code",
      "source": [
        "weight=int(input(\"enter your weight\"))\n",
        "unit=input(\"(L)bs or (K)g:\")\n",
        "if unit.upper()==\"K\":\n",
        "  converted=weight/0.45\n",
        "  print(f\"you are {converted} pounds\")\n",
        "else:\n",
        "  converted=weight*0.45\n",
        ""
      ],
      "metadata": {
        "colab": {
          "base_uri": "https://localhost:8080/"
        },
        "id": "74J9_PiRISRx",
        "outputId": "72f9eeb4-1224-4540-a6d0-08e527cd94c8"
      },
      "execution_count": 18,
      "outputs": [
        {
          "output_type": "stream",
          "name": "stdout",
          "text": [
            "enter your weight75\n",
            "(L)bs or (K)g:K\n",
            "you are 166.66666666666666 pounds\n"
          ]
        }
      ]
    },
    {
      "cell_type": "markdown",
      "source": [
        "Write a python code to make a guess game 1,2,3 times"
      ],
      "metadata": {
        "id": "ii6QO0tzI7u_"
      }
    },
    {
      "cell_type": "code",
      "source": [],
      "metadata": {
        "id": "Ylo9AweTJgl5"
      },
      "execution_count": null,
      "outputs": []
    }
  ]
}