{
  "nbformat": 4,
  "nbformat_minor": 0,
  "metadata": {
    "colab": {
      "provenance": [],
      "authorship_tag": "ABX9TyNbz3un2JyCPrElkJrAjna1",
      "include_colab_link": true
    },
    "kernelspec": {
      "name": "python3",
      "display_name": "Python 3"
    },
    "language_info": {
      "name": "python"
    }
  },
  "cells": [
    {
      "cell_type": "markdown",
      "metadata": {
        "id": "view-in-github",
        "colab_type": "text"
      },
      "source": [
        "<a href=\"https://colab.research.google.com/github/Dhruvrajrana/batch-50_python/blob/main/Dictionaries.ipynb\" target=\"_parent\"><img src=\"https://colab.research.google.com/assets/colab-badge.svg\" alt=\"Open In Colab\"/></a>"
      ]
    },
    {
      "cell_type": "markdown",
      "source": [
        "Dictionaries"
      ],
      "metadata": {
        "id": "otZdGcemwiUh"
      }
    },
    {
      "cell_type": "code",
      "source": [
        "Dict={'Name':\"Dhruv\",\"SAP_ID\":590013722,'Age':19,'Address':\"Haryana\"}\n",
        "print(Dict)\n",
        "Dict['Gender']='Male'\n",
        "print(Dict)\n",
        "Dict['Age']=20\n",
        "print(Dict)\n",
        "print(sorted(Dict.keys()))\n",
        "print(\"Name is : \",Dict.pop('Name'))\n",
        "for key in Dict:\n",
        "  print(key,end=' ')\n",
        "print(\"\\nVALUES : \",end=' ')\n",
        "for value in Dict.values():\n",
        "  print(value,end=' ')\n",
        "for key,value in Dict.items():\n",
        "  print(key,value,\"\\t\",end=' ')"
      ],
      "metadata": {
        "colab": {
          "base_uri": "https://localhost:8080/"
        },
        "id": "aJK2m5qDwmfI",
        "outputId": "e469dffc-16a7-4269-d486-7b46b5eb9933"
      },
      "execution_count": 2,
      "outputs": [
        {
          "output_type": "stream",
          "name": "stdout",
          "text": [
            "{'Name': 'Dhruv', 'SAP_ID': 590013722, 'Age': 19, 'Address': 'Haryana'}\n",
            "{'Name': 'Dhruv', 'SAP_ID': 590013722, 'Age': 19, 'Address': 'Haryana', 'Gender': 'Male'}\n",
            "{'Name': 'Dhruv', 'SAP_ID': 590013722, 'Age': 20, 'Address': 'Haryana', 'Gender': 'Male'}\n",
            "['Address', 'Age', 'Gender', 'Name', 'SAP_ID']\n",
            "Name is :  Dhruv\n",
            "SAP_ID Age Address Gender \n",
            "VALUES :  590013722 20 Haryana Male SAP_ID 590013722 \t Age 20 \t Address Haryana \t Gender Male \t "
          ]
        }
      ]
    },
    {
      "cell_type": "markdown",
      "source": [
        "Nested Dictionaries"
      ],
      "metadata": {
        "id": "AFYEJEMf5keL"
      }
    },
    {
      "cell_type": "code",
      "source": [
        "Students={'Shiv':{'CS':90,'DS':89,'CSA':92},'Sadhvi':{'CS':91,'DS':87,'CSA':94},'Krish':{'CS':93,'DS':92,'CSA':88}}\n",
        "for key,val in Students.items():\n",
        "  print(key,val)"
      ],
      "metadata": {
        "colab": {
          "base_uri": "https://localhost:8080/"
        },
        "id": "-Nf5kvTx5qLi",
        "outputId": "f9dcc446-94cc-42c1-ab3d-08440f7cdfdd"
      },
      "execution_count": 3,
      "outputs": [
        {
          "output_type": "stream",
          "name": "stdout",
          "text": [
            "Shiv {'CS': 90, 'DS': 89, 'CSA': 92}\n",
            "Sadhvi {'CS': 91, 'DS': 87, 'CSA': 94}\n",
            "Krish {'CS': 93, 'DS': 92, 'CSA': 88}\n"
          ]
        }
      ]
    }
  ]
}