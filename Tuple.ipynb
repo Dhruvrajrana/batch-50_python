{
  "nbformat": 4,
  "nbformat_minor": 0,
  "metadata": {
    "colab": {
      "provenance": [],
      "authorship_tag": "ABX9TyOo63nDSu5l7NVSzfZJo4cE",
      "include_colab_link": true
    },
    "kernelspec": {
      "name": "python3",
      "display_name": "Python 3"
    },
    "language_info": {
      "name": "python"
    }
  },
  "cells": [
    {
      "cell_type": "markdown",
      "metadata": {
        "id": "view-in-github",
        "colab_type": "text"
      },
      "source": [
        "<a href=\"https://colab.research.google.com/github/Dhruvrajrana/batch-50_python/blob/main/Tuple.ipynb\" target=\"_parent\"><img src=\"https://colab.research.google.com/assets/colab-badge.svg\" alt=\"Open In Colab\"/></a>"
      ]
    },
    {
      "cell_type": "code",
      "execution_count": 1,
      "metadata": {
        "colab": {
          "base_uri": "https://localhost:8080/"
        },
        "id": "fjtbhuVP0IDH",
        "outputId": "4ce14b68-9486-40c0-c53e-bccb07dcb2f9"
      },
      "outputs": [
        {
          "output_type": "stream",
          "name": "stdout",
          "text": [
            "(1, 2, 3, 4, 5)\n",
            "('ONE', 'TWO', 'THREE', 'FOUR', 'FIVE')\n",
            "(1, 'ONE', 6, 7.5, 'DHRUV')\n"
          ]
        }
      ],
      "source": [
        "T1=(1,2,3,4,5)\n",
        "T2=('ONE','TWO','THREE','FOUR','FIVE')\n",
        "T3=(1,'ONE',6,7.5,'DHRUV')\n",
        "print(T1)\n",
        "print(T2)\n",
        "print(T3)"
      ]
    },
    {
      "cell_type": "code",
      "source": [
        "T1=(1,2,3,4,5)\n",
        "T2=('ONE','TWO','THREE','FOUR','FIVE')\n",
        "T3=(1,'ONE',6,7.5,'DHRUV')\n",
        "T1[:]\n"
      ],
      "metadata": {
        "colab": {
          "base_uri": "https://localhost:8080/"
        },
        "id": "ij43TOzv1Afj",
        "outputId": "51dd6312-07fd-4d7a-c790-4b0b36718985"
      },
      "execution_count": 5,
      "outputs": [
        {
          "output_type": "execute_result",
          "data": {
            "text/plain": [
              "(1, 2, 3, 4, 5)"
            ]
          },
          "metadata": {},
          "execution_count": 5
        }
      ]
    },
    {
      "cell_type": "code",
      "source": [
        "T1=(1,2,3,4,5)\n",
        "T2=('ONE','TWO','THREE','FOUR','FIVE')\n",
        "T3=(1,'ONE',6,7.5,'DHRUV')\n",
        "T1[-2:]"
      ],
      "metadata": {
        "colab": {
          "base_uri": "https://localhost:8080/"
        },
        "id": "VftMZFhA1dxI",
        "outputId": "b5a78514-c5c9-437e-82b4-76d9d1161ec7"
      },
      "execution_count": 8,
      "outputs": [
        {
          "output_type": "execute_result",
          "data": {
            "text/plain": [
              "(4, 5)"
            ]
          },
          "metadata": {},
          "execution_count": 8
        }
      ]
    },
    {
      "cell_type": "code",
      "source": [
        "T1=(1,2,3,4,5)\n",
        "T2=('ONE','TWO','THREE','FOUR','FIVE')\n",
        "T3=(1,'ONE',6,7.5,'DHRUV')\n",
        "T1[-1]"
      ],
      "metadata": {
        "colab": {
          "base_uri": "https://localhost:8080/"
        },
        "id": "MHeZz0H01rxq",
        "outputId": "55bdc735-a64e-4eef-ff57-d0c341834b6a"
      },
      "execution_count": 11,
      "outputs": [
        {
          "output_type": "execute_result",
          "data": {
            "text/plain": [
              "5"
            ]
          },
          "metadata": {},
          "execution_count": 11
        }
      ]
    },
    {
      "cell_type": "code",
      "source": [
        "T1=(1,2,3,4,5)\n",
        "T2=('ONE','TWO','THREE','FOUR','FIVE')\n",
        "T3=(1,'ONE',6,7.5,'DHRUV')\n",
        "T1[::]"
      ],
      "metadata": {
        "colab": {
          "base_uri": "https://localhost:8080/"
        },
        "id": "AE18C_AL2Aek",
        "outputId": "55032b8b-58d1-4f73-ae90-306e0f38b02e"
      },
      "execution_count": 12,
      "outputs": [
        {
          "output_type": "execute_result",
          "data": {
            "text/plain": [
              "(1, 2, 3, 4, 5)"
            ]
          },
          "metadata": {},
          "execution_count": 12
        }
      ]
    },
    {
      "cell_type": "code",
      "source": [
        "T1=(1,2,3,4,5,6,8)\n",
        "T2=('ONE','TWO','THREE','FOUR','FIVE')\n",
        "T3=(1,'ONE',6,7.5,'DHRUV')\n",
        "T1[1:6:2]"
      ],
      "metadata": {
        "colab": {
          "base_uri": "https://localhost:8080/"
        },
        "id": "tDRFLhxU2NQE",
        "outputId": "8f95197a-cc71-454d-e061-6f3e2bd3bb50"
      },
      "execution_count": 17,
      "outputs": [
        {
          "output_type": "execute_result",
          "data": {
            "text/plain": [
              "(2, 4, 6)"
            ]
          },
          "metadata": {},
          "execution_count": 17
        }
      ]
    },
    {
      "cell_type": "code",
      "source": [
        "T1=(1,2,3,4,5)\n",
        "T2=('ONE','TWO','THREE','FOUR','FIVE')\n",
        "T3=(1,'ONE',6,7.5,'DHRUV')\n",
        "T1[::-1]"
      ],
      "metadata": {
        "colab": {
          "base_uri": "https://localhost:8080/"
        },
        "id": "WTWPJ7lH2-c1",
        "outputId": "3d322349-0148-4db7-b1ba-a59528866843"
      },
      "execution_count": 18,
      "outputs": [
        {
          "output_type": "execute_result",
          "data": {
            "text/plain": [
              "(5, 4, 3, 2, 1)"
            ]
          },
          "metadata": {},
          "execution_count": 18
        }
      ]
    },
    {
      "cell_type": "code",
      "source": [
        "T1=(1,2,3,4,5)\n",
        "T2=('ONE','TWO','THREE','FOUR','FIVE')\n",
        "T3=(1,'ONE',6,7.5,'DHRUV')\n",
        "T1[::-2]"
      ],
      "metadata": {
        "colab": {
          "base_uri": "https://localhost:8080/"
        },
        "id": "CfPSpLw43JEe",
        "outputId": "fde14dd5-c310-4e35-9abe-ce757526d525"
      },
      "execution_count": 19,
      "outputs": [
        {
          "output_type": "execute_result",
          "data": {
            "text/plain": [
              "(5, 3, 1)"
            ]
          },
          "metadata": {},
          "execution_count": 19
        }
      ]
    },
    {
      "cell_type": "code",
      "source": [
        "T1=(1,2,3,4,5)\n",
        "T2=('ONE','TWO','THREE','FOUR','FIVE')\n",
        "T3=(1,'ONE',6,7.5,'DHRUV')\n",
        "T4=T1+T2\n",
        "print(T4)"
      ],
      "metadata": {
        "colab": {
          "base_uri": "https://localhost:8080/"
        },
        "id": "6M60S7iN3d_J",
        "outputId": "b67cc350-ee5a-449f-9392-692b87eac449"
      },
      "execution_count": 21,
      "outputs": [
        {
          "output_type": "stream",
          "name": "stdout",
          "text": [
            "(1, 2, 3, 4, 5, 'ONE', 'TWO', 'THREE', 'FOUR', 'FIVE')\n"
          ]
        }
      ]
    },
    {
      "cell_type": "code",
      "source": [
        "T1=(1,2,3,4,5)\n",
        "T2=('ONE','TWO','THREE','FOUR','FIVE')\n",
        "T3=(1,'ONE',6,7.5,'DHRUV')\n",
        "T2[0][0]"
      ],
      "metadata": {
        "colab": {
          "base_uri": "https://localhost:8080/",
          "height": 35
        },
        "id": "5bEWAEpR33ab",
        "outputId": "2b5a90e4-95f2-4982-ffb5-5001209ea540"
      },
      "execution_count": 22,
      "outputs": [
        {
          "output_type": "execute_result",
          "data": {
            "text/plain": [
              "'O'"
            ],
            "application/vnd.google.colaboratory.intrinsic+json": {
              "type": "string"
            }
          },
          "metadata": {},
          "execution_count": 22
        }
      ]
    },
    {
      "cell_type": "code",
      "source": [
        "T1=(1,2,3,4,5)\n",
        "T2=('ONE','TWO','THREE','FOUR','FIVE',(5,8),('FOUR'))\n",
        "T3=(1,'ONE',6,7.5,'DHRUV')\n",
        "print(T2[5][1])"
      ],
      "metadata": {
        "colab": {
          "base_uri": "https://localhost:8080/"
        },
        "id": "qeNoWyg-4KQW",
        "outputId": "e8657ea0-301d-4fef-fc4e-6ed7c0090c09"
      },
      "execution_count": 30,
      "outputs": [
        {
          "output_type": "stream",
          "name": "stdout",
          "text": [
            "8\n"
          ]
        }
      ]
    }
  ]
}