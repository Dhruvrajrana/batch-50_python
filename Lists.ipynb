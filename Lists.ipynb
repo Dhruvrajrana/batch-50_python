{
  "nbformat": 4,
  "nbformat_minor": 0,
  "metadata": {
    "colab": {
      "provenance": [],
      "authorship_tag": "ABX9TyNFbYMtcopGEllEoRdsRCwO",
      "include_colab_link": true
    },
    "kernelspec": {
      "name": "python3",
      "display_name": "Python 3"
    },
    "language_info": {
      "name": "python"
    }
  },
  "cells": [
    {
      "cell_type": "markdown",
      "metadata": {
        "id": "view-in-github",
        "colab_type": "text"
      },
      "source": [
        "<a href=\"https://colab.research.google.com/github/Dhruvrajrana/batch-50_python/blob/main/Lists.ipynb\" target=\"_parent\"><img src=\"https://colab.research.google.com/assets/colab-badge.svg\" alt=\"Open In Colab\"/></a>"
      ]
    },
    {
      "cell_type": "code",
      "execution_count": null,
      "metadata": {
        "colab": {
          "base_uri": "https://localhost:8080/"
        },
        "id": "jnu99-q-cW_K",
        "outputId": "2e673ed0-5904-4b69-9b66-e014384cd653"
      },
      "outputs": [
        {
          "output_type": "stream",
          "name": "stdout",
          "text": [
            "[3, 4, 10, 5, 6, 7, 8]\n"
          ]
        }
      ],
      "source": [
        "l1=[3,4,5,6,7,8]\n",
        "l1.insert(2,10)\n",
        "print(l1)"
      ]
    },
    {
      "cell_type": "code",
      "source": [
        "l1=[]\n",
        "for i in range(20):\n",
        "  if i%2==0:\n",
        "    l1.append(i)\n",
        "print(l1)"
      ],
      "metadata": {
        "id": "kNG2o_KIgiob",
        "colab": {
          "base_uri": "https://localhost:8080/"
        },
        "outputId": "b89c9625-66cd-449c-db57-59dfa46c3cc1"
      },
      "execution_count": 2,
      "outputs": [
        {
          "output_type": "stream",
          "name": "stdout",
          "text": [
            "[0, 2, 4, 6, 8, 10, 12, 14, 16, 18]\n"
          ]
        }
      ]
    },
    {
      "cell_type": "markdown",
      "source": [
        "write a program to inset a prime number to a list using list complhension"
      ],
      "metadata": {
        "id": "yStrOd9NuTPl"
      }
    },
    {
      "cell_type": "code",
      "source": [
        "l1=[i for i in range(20)if i%2==0]\n",
        "print(l1)"
      ],
      "metadata": {
        "colab": {
          "base_uri": "https://localhost:8080/"
        },
        "id": "clcCShRvt84m",
        "outputId": "0a49425a-22b8-46e6-d547-260e74f9dd83"
      },
      "execution_count": 5,
      "outputs": [
        {
          "output_type": "stream",
          "name": "stdout",
          "text": [
            "[0, 2, 4, 6, 8, 10, 12, 14, 16, 18]\n"
          ]
        }
      ]
    },
    {
      "cell_type": "code",
      "source": [
        "num = 100\n",
        "l1 = [i for i in range(2, int(num**0.5) + 1) if num % i == 0]\n",
        "print(l1)"
      ],
      "metadata": {
        "colab": {
          "base_uri": "https://localhost:8080/"
        },
        "id": "gjnWa-kSxUtQ",
        "outputId": "f07dbd9e-3cb6-4196-d6b8-488339c9a899"
      },
      "execution_count": 33,
      "outputs": [
        {
          "output_type": "stream",
          "name": "stdout",
          "text": [
            "[2, 4, 5, 10]\n"
          ]
        }
      ]
    },
    {
      "cell_type": "code",
      "source": [
        "l1=[i for i in range(1000)if i%3==0 if i%5==0 if i%7==0]\n",
        "print(l1)"
      ],
      "metadata": {
        "colab": {
          "base_uri": "https://localhost:8080/"
        },
        "id": "rG_xYIUrxokj",
        "outputId": "80ae4401-d590-4825-96d6-5a992d219a8e"
      },
      "execution_count": 31,
      "outputs": [
        {
          "output_type": "stream",
          "name": "stdout",
          "text": [
            "[0, 105, 210, 315, 420, 525, 630, 735, 840, 945]\n"
          ]
        }
      ]
    },
    {
      "cell_type": "code",
      "source": [
        "l1=[i for i in range(1000)if i%3==0 and i%5==0 and i%7==0]\n",
        "print(l1)"
      ],
      "metadata": {
        "colab": {
          "base_uri": "https://localhost:8080/"
        },
        "id": "cYp6P-ArzVvt",
        "outputId": "b68bacdf-3fc6-49b2-8308-dc22456f604a"
      },
      "execution_count": 34,
      "outputs": [
        {
          "output_type": "stream",
          "name": "stdout",
          "text": [
            "[0, 105, 210, 315, 420, 525, 630, 735, 840, 945]\n"
          ]
        }
      ]
    }
  ]
}